{
 "cells": [
  {
   "cell_type": "markdown",
   "id": "coordinated-error",
   "metadata": {},
   "source": [
    "# Risk Simulation"
   ]
  },
  {
   "cell_type": "code",
   "execution_count": 7,
   "id": "smoking-version",
   "metadata": {},
   "outputs": [],
   "source": [
    "#packages\n",
    "import pandas as pd\n",
    "import numpy as np\n",
    "import math\n",
    "import random\n",
    "import statsmodels as sm\n",
    "import matplotlib.pyplot as plt\n",
    "import seaborn as sns"
   ]
  },
  {
   "cell_type": "code",
   "execution_count": 15,
   "id": "responsible-curtis",
   "metadata": {},
   "outputs": [],
   "source": [
    "from scipy.stats import *"
   ]
  },
  {
   "cell_type": "markdown",
   "id": "super-demographic",
   "metadata": {},
   "source": [
    "Documentacion para manejar distribuciones de scypi\n",
    "https://docs.scipy.org/doc/scipy/reference/stats.html"
   ]
  },
  {
   "cell_type": "code",
   "execution_count": 14,
   "id": "conscious-secretariat",
   "metadata": {
    "scrolled": true
   },
   "outputs": [
    {
     "data": {
      "text/plain": [
       "array([0.9 , 1.13, 1.07, 1.08, 1.01, 0.9 , 0.92, 1.06, 1.05, 0.99])"
      ]
     },
     "execution_count": 14,
     "metadata": {},
     "output_type": "execute_result"
    }
   ],
   "source": [
    "#sample random normal monte carlo\n",
    "avg = 1\n",
    "std_dev = .1\n",
    "num_reps = 500\n",
    "num_simulations = 1000\n",
    "\n",
    "pct_to_target = np.random.normal(avg, std_dev, num_reps).round(2)\n",
    "pct_to_target[0:10]"
   ]
  },
  {
   "cell_type": "code",
   "execution_count": null,
   "id": "shared-cabinet",
   "metadata": {},
   "outputs": [],
   "source": [
    "def monte_carlo(n=10000):\n",
    "    \"\"\"run monte carlo simulation with custom distribution\"\"\"\n",
    "    x = np.zeros(n)\n",
    "    for i in range(n):\n",
    "    \n",
    "        \n",
    "    \n",
    "    return x"
   ]
  },
  {
   "cell_type": "code",
   "execution_count": 10,
   "id": "incredible-alliance",
   "metadata": {},
   "outputs": [],
   "source": [
    "def crude_monte_carlo(num_samples=5000):\n",
    "    \"\"\"\n",
    "    This function performs the Crude Monte Carlo for our\n",
    "    specific function f(x) on the range x=0 to x=5.\n",
    "    Notice that this bound is sufficient because f(x)\n",
    "    approaches 0 at around PI.\n",
    "    Args:\n",
    "    - num_samples (float) : number of samples\n",
    "    Return:\n",
    "    - Crude Monte Carlo estimation (float)\n",
    "    \n",
    "    \"\"\"\n",
    "    lower_bound = 0\n",
    "    upper_bound = 5\n",
    "    \n",
    "    sum_of_samples = 0\n",
    "    for i in range(num_samples):\n",
    "        x = get_rand_number(lower_bound, upper_bound)\n",
    "        sum_of_samples += f_of_x(x)\n",
    "    \n",
    "    return (upper_bound - lower_bound) * float(sum_of_samples/num_samples)"
   ]
  },
  {
   "cell_type": "code",
   "execution_count": null,
   "id": "split-crazy",
   "metadata": {},
   "outputs": [],
   "source": []
  },
  {
   "cell_type": "code",
   "execution_count": null,
   "id": "distant-montgomery",
   "metadata": {},
   "outputs": [],
   "source": [
    "#Simulation Parameters\n",
    "n=10000\n"
   ]
  }
 ],
 "metadata": {
  "kernelspec": {
   "display_name": "Python 3",
   "language": "python",
   "name": "python3"
  },
  "language_info": {
   "codemirror_mode": {
    "name": "ipython",
    "version": 3
   },
   "file_extension": ".py",
   "mimetype": "text/x-python",
   "name": "python",
   "nbconvert_exporter": "python",
   "pygments_lexer": "ipython3",
   "version": "3.8.5"
  }
 },
 "nbformat": 4,
 "nbformat_minor": 5
}
