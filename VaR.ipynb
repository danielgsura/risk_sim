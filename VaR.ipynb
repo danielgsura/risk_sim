{
 "cells": [
  {
   "cell_type": "code",
   "execution_count": 1,
   "metadata": {},
   "outputs": [],
   "source": [
    "import pandas as pd\n",
    "import numpy as np\n",
    "import matplotlib.pyplot as plt\n",
    "import seaborn as sns"
   ]
  },
  {
   "cell_type": "code",
   "execution_count": 8,
   "metadata": {},
   "outputs": [],
   "source": [
    "def var_historic(r, level=1):\n",
    "    \"\"\"\n",
    "    Takes in a series of returns (r), and the percentage level\n",
    "(level)\n",
    "    Returns the historic Value at Risk at a specified level\n",
    "    i.e. returns the number such that \"level\" percent of the returns\n",
    "    fall below that number, and the (100-level) percent are above\n",
    "    \"\"\"\n",
    "    if isinstance(r, pd.DataFrame):\n",
    "        return r.aggregate(var_historic, level=level)\n",
    "    elif isinstance(r, pd.Series):\n",
    "        return -np.percentile(r, level)\n",
    "    else:\n",
    "        raise TypeError(\"Expected r to be a Series or DataFrame\")"
   ]
  },
  {
   "cell_type": "markdown",
   "metadata": {},
   "source": [
    "# Pregunta 1 - 2"
   ]
  },
  {
   "cell_type": "code",
   "execution_count": 196,
   "metadata": {},
   "outputs": [
    {
     "data": {
      "text/plain": [
       "43895.21521742776"
      ]
     },
     "execution_count": 196,
     "metadata": {},
     "output_type": "execute_result"
    }
   ],
   "source": [
    "df = pd.read_excel(\"var1_2.xlsx\")\n",
    "df = df.sort_values(by=\"val\",ascending = False).reset_index()\n",
    "df.iloc[10,2]"
   ]
  },
  {
   "cell_type": "markdown",
   "metadata": {},
   "source": [
    "## Pregunta 1"
   ]
  },
  {
   "cell_type": "code",
   "execution_count": 21,
   "metadata": {},
   "outputs": [
    {
     "data": {
      "text/plain": [
       "-43897.45709514318"
      ]
     },
     "execution_count": 21,
     "metadata": {},
     "output_type": "execute_result"
    }
   ],
   "source": [
    "#var histórico\n",
    "var_historic(df[\"val\"], level=99)"
   ]
  },
  {
   "cell_type": "markdown",
   "metadata": {},
   "source": [
    "### Respuesta\n",
    "R/ 43895"
   ]
  },
  {
   "cell_type": "markdown",
   "metadata": {},
   "source": [
    "## Pregunta 2"
   ]
  },
  {
   "cell_type": "code",
   "execution_count": 39,
   "metadata": {},
   "outputs": [],
   "source": [
    "def var_parametric(df, level):\n",
    "    var = np.percentile(df, level)\n",
    "    return(var)"
   ]
  },
  {
   "cell_type": "code",
   "execution_count": 40,
   "metadata": {},
   "outputs": [],
   "source": [
    "def c_var(df, level):\n",
    "    value_at_risk = var_parametric(df, level)\n",
    "    cvar = df[df <= value_at_risk].mean()\n",
    "    return(cvar)"
   ]
  },
  {
   "cell_type": "code",
   "execution_count": 198,
   "metadata": {},
   "outputs": [
    {
     "data": {
      "text/plain": [
       "48246.101495835544"
      ]
     },
     "execution_count": 198,
     "metadata": {},
     "output_type": "execute_result"
    }
   ],
   "source": [
    "df_cvar = df.iloc[0:10,2]\n",
    "df_cvar.mean()"
   ]
  },
  {
   "cell_type": "markdown",
   "metadata": {},
   "source": [
    "### Respuesta\n",
    "R/ 48246"
   ]
  },
  {
   "cell_type": "markdown",
   "metadata": {},
   "source": [
    "# Pregunta 3"
   ]
  },
  {
   "cell_type": "code",
   "execution_count": 199,
   "metadata": {},
   "outputs": [
    {
     "data": {
      "text/html": [
       "<div>\n",
       "<style scoped>\n",
       "    .dataframe tbody tr th:only-of-type {\n",
       "        vertical-align: middle;\n",
       "    }\n",
       "\n",
       "    .dataframe tbody tr th {\n",
       "        vertical-align: top;\n",
       "    }\n",
       "\n",
       "    .dataframe thead th {\n",
       "        text-align: right;\n",
       "    }\n",
       "</style>\n",
       "<table border=\"1\" class=\"dataframe\">\n",
       "  <thead>\n",
       "    <tr style=\"text-align: right;\">\n",
       "      <th></th>\n",
       "      <th>Simulación 1</th>\n",
       "      <th>Simulación 2</th>\n",
       "      <th>Simulación 3</th>\n",
       "      <th>Simulación 4</th>\n",
       "      <th>Simulación 5</th>\n",
       "    </tr>\n",
       "  </thead>\n",
       "  <tbody>\n",
       "    <tr>\n",
       "      <th>0</th>\n",
       "      <td>48835.522211</td>\n",
       "      <td>33764.139378</td>\n",
       "      <td>53763.127375</td>\n",
       "      <td>65114.423931</td>\n",
       "      <td>48902.652385</td>\n",
       "    </tr>\n",
       "    <tr>\n",
       "      <th>1</th>\n",
       "      <td>57411.454449</td>\n",
       "      <td>64582.123575</td>\n",
       "      <td>25662.026770</td>\n",
       "      <td>40053.897055</td>\n",
       "      <td>46849.128198</td>\n",
       "    </tr>\n",
       "    <tr>\n",
       "      <th>2</th>\n",
       "      <td>42227.836115</td>\n",
       "      <td>44432.550153</td>\n",
       "      <td>44118.271581</td>\n",
       "      <td>37462.771696</td>\n",
       "      <td>59485.864254</td>\n",
       "    </tr>\n",
       "    <tr>\n",
       "      <th>3</th>\n",
       "      <td>67762.080368</td>\n",
       "      <td>39562.468729</td>\n",
       "      <td>30236.228537</td>\n",
       "      <td>44532.352384</td>\n",
       "      <td>41677.000504</td>\n",
       "    </tr>\n",
       "    <tr>\n",
       "      <th>4</th>\n",
       "      <td>63698.821328</td>\n",
       "      <td>39110.547853</td>\n",
       "      <td>39921.080138</td>\n",
       "      <td>51967.998906</td>\n",
       "      <td>44923.587496</td>\n",
       "    </tr>\n",
       "  </tbody>\n",
       "</table>\n",
       "</div>"
      ],
      "text/plain": [
       "   Simulación 1  Simulación 2  Simulación 3  Simulación 4  Simulación 5\n",
       "0  48835.522211  33764.139378  53763.127375  65114.423931  48902.652385\n",
       "1  57411.454449  64582.123575  25662.026770  40053.897055  46849.128198\n",
       "2  42227.836115  44432.550153  44118.271581  37462.771696  59485.864254\n",
       "3  67762.080368  39562.468729  30236.228537  44532.352384  41677.000504\n",
       "4  63698.821328  39110.547853  39921.080138  51967.998906  44923.587496"
      ]
     },
     "execution_count": 199,
     "metadata": {},
     "output_type": "execute_result"
    }
   ],
   "source": [
    "df3 = pd.read_excel(\"var_3.xlsx\")\n",
    "df3.drop(columns = \"id\", inplace = True)\n",
    "df3.head()"
   ]
  },
  {
   "cell_type": "code",
   "execution_count": 219,
   "metadata": {},
   "outputs": [],
   "source": [
    "var_list = []\n",
    "cvar_list = []\n",
    "largo = len(df3)\n",
    "var_level = 0.01\n",
    "idx = int(largo * var_level)\n",
    "for col in df3.columns:\n",
    "    df_temp = df3[col]\n",
    "    df_temp_sorted = df_temp.sort_values(ascending = False).reset_index()\n",
    "    var = df_temp_sorted.iloc[idx,1]\n",
    "    c_var = df_temp_sorted.iloc[0:idx,1].mean() \n",
    "    var_list.append(var)\n",
    "    cvar_list.append(c_var)\n",
    "    "
   ]
  },
  {
   "cell_type": "code",
   "execution_count": 220,
   "metadata": {},
   "outputs": [
    {
     "name": "stdout",
     "output_type": "stream",
     "text": [
      "Std VaR 1380.6308063562174\n",
      "Std CVaR 1608.4567475244214\n"
     ]
    }
   ],
   "source": [
    "print(\"Std VaR\", statistics.stdev(var_list))\n",
    "print(\"Std CVaR\", statistics.stdev(cvar_list))"
   ]
  },
  {
   "cell_type": "markdown",
   "metadata": {},
   "source": [
    "### Respuesta\n",
    "R/ Var 1380 y TVar 1608"
   ]
  },
  {
   "cell_type": "markdown",
   "metadata": {},
   "source": [
    "# Pregunta 4"
   ]
  },
  {
   "cell_type": "markdown",
   "metadata": {},
   "source": [
    "Suponga que los siniestros que puede tener una compañía en un año con la cartera de seguros que tiene suscrita, siguen una distribución normal con media USD 10 millones y desviación estándar USD 2 millones. Si la compañía tiene en reservas la media de las pérdidas más un margen de riesgo del 5% adicional ¿Cuánto capital deben disponer los accionistas para cumplir con un nivel de solvencia basado en un VaR 99%? (Suponga que el valor de la reserva y el margen de riesgo están respaldados por activos que se obtuvieron de las primas suscritas)"
   ]
  },
  {
   "cell_type": "code",
   "execution_count": 146,
   "metadata": {},
   "outputs": [
    {
     "data": {
      "text/plain": [
       "14.652695748081682"
      ]
     },
     "execution_count": 146,
     "metadata": {},
     "output_type": "execute_result"
    }
   ],
   "source": [
    "mean = 10\n",
    "std = 2\n",
    "reserves = mean * 1.05\n",
    "level = 0.99\n",
    "var99 = norm.ppf(level, loc=mean, scale=std)\n",
    "var99"
   ]
  },
  {
   "cell_type": "code",
   "execution_count": 151,
   "metadata": {},
   "outputs": [
    {
     "data": {
      "text/plain": [
       "4152.695748081682"
      ]
     },
     "execution_count": 151,
     "metadata": {},
     "output_type": "execute_result"
    }
   ],
   "source": [
    "(var99 - reserves)*1000"
   ]
  },
  {
   "cell_type": "markdown",
   "metadata": {},
   "source": [
    "### Respuesta\n",
    "4152"
   ]
  },
  {
   "cell_type": "markdown",
   "metadata": {},
   "source": [
    "# Pregunta 5"
   ]
  },
  {
   "cell_type": "code",
   "execution_count": null,
   "metadata": {},
   "outputs": [],
   "source": []
  },
  {
   "cell_type": "markdown",
   "metadata": {},
   "source": [
    "# Pregunta 6"
   ]
  },
  {
   "cell_type": "markdown",
   "metadata": {},
   "source": [
    "El horizonte temporal contempla todos los flujos de caja hasta su run-off pero solo contempla eventos que se puedan materializar durante un año"
   ]
  },
  {
   "cell_type": "markdown",
   "metadata": {},
   "source": [
    "# Pregunta 7"
   ]
  },
  {
   "cell_type": "markdown",
   "metadata": {},
   "source": [
    "Verdadero"
   ]
  },
  {
   "cell_type": "markdown",
   "metadata": {},
   "source": [
    "# Pregunta 8"
   ]
  },
  {
   "cell_type": "markdown",
   "metadata": {},
   "source": [
    "La solvencia tiene como principal objetivo dar confianza y proteger a los consumidores del sistema financiero\n",
    "\n",
    "Los modelos internos de solvencia tienen la ventaja de reflejar de una manera más precisa los riesgos de una organización"
   ]
  }
 ],
 "metadata": {
  "kernelspec": {
   "display_name": "Python 3",
   "language": "python",
   "name": "python3"
  },
  "language_info": {
   "codemirror_mode": {
    "name": "ipython",
    "version": 3
   },
   "file_extension": ".py",
   "mimetype": "text/x-python",
   "name": "python",
   "nbconvert_exporter": "python",
   "pygments_lexer": "ipython3",
   "version": "3.7.6"
  }
 },
 "nbformat": 4,
 "nbformat_minor": 4
}
