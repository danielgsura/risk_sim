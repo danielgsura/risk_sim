{
 "cells": [
  {
   "cell_type": "code",
   "execution_count": 1,
   "id": "broad-clothing",
   "metadata": {},
   "outputs": [],
   "source": [
    "from math import log, sqrt, pi, exp\n",
    "from scipy.stats import norm\n",
    "from datetime import datetime, date\n",
    "import numpy as np\n",
    "import pandas as pd\n",
    "from pandas import DataFrame"
   ]
  },
  {
   "cell_type": "code",
   "execution_count": 2,
   "id": "proper-soundtrack",
   "metadata": {},
   "outputs": [],
   "source": [
    "def d1(S,K,T,r,sigma):\n",
    "    return(log(S/K)+(r+sigma**2/2.)*T)/sigma*sqrt(T)\n",
    "def d2(S,K,T,r,sigma):\n",
    "    return d1(S,K,T,r,sigma)-sigma*sqrt(T)"
   ]
  },
  {
   "cell_type": "code",
   "execution_count": 3,
   "id": "numerous-balance",
   "metadata": {},
   "outputs": [],
   "source": [
    "def bs_call(S,K,T,r,sigma):\n",
    "    return S*norm.cdf(d1(S,K,T,r,sigma))-K*exp(-r*T)*norm.cdf(d2(S,K,T,r,sigma))\n",
    "  \n",
    "def bs_put(S,K,T,r,sigma):\n",
    "    return K*exp(-r*T)-S+bs_call(S,K,T,r,sigma)"
   ]
  },
  {
   "cell_type": "code",
   "execution_count": 6,
   "id": "central-sweet",
   "metadata": {},
   "outputs": [],
   "source": [
    "S = 100\n",
    "K = 110\n",
    "T = 0.25\n",
    "r = 0.05\n",
    "sigma = 0.3"
   ]
  },
  {
   "cell_type": "code",
   "execution_count": 14,
   "id": "published-competition",
   "metadata": {},
   "outputs": [
    {
     "name": "stdout",
     "output_type": "stream",
     "text": [
      "-0.0953101798043249\n",
      "0.02375\n",
      "0.15\n",
      "-0.47706786536216594\n",
      "-0.627067865362166\n",
      "0.3166568982053235\n",
      "0.2653073751548984\n",
      "0.6833431017946765\n",
      "0.7346926248451016\n",
      "0.9875778004938814\n"
     ]
    }
   ],
   "source": [
    "lns0k = log(S/K)\n",
    "print(lns0k)\n",
    "rmas = (r+(sigma**2)/2.0)*T\n",
    "print(rmas)\n",
    "srt = sigma*sqrt(T)\n",
    "print(srt)\n",
    "d1 = (lns0k + rmas) / srt\n",
    "print(d1)\n",
    "d2 = d1 - srt\n",
    "print(d2)\n",
    "Nd1 = norm.cdf(d1)\n",
    "Nd2 = norm.cdf(d2)\n",
    "ert = exp(-T*r)\n",
    "print(Nd1)\n",
    "print(Nd2)\n",
    "print(ert)"
   ]
  },
  {
   "cell_type": "code",
   "execution_count": 15,
   "id": "seven-westminster",
   "metadata": {},
   "outputs": [],
   "source": [
    "def call(S,K,T,r,sigma):\n",
    "    lns0k = log(S/K)\n",
    "    rmas = (r+(sigma**2)/2.0)*T\n",
    "    srt = sigma*sqrt(T)\n",
    "    d1 = (lns0k + rmas) / srt\n",
    "    d2 = d1 - srt\n",
    "    Nd1 = norm.cdf(d1)\n",
    "    Nd2 = norm.cdf(d2)\n",
    "    ert = exp(-T*r)\n",
    "    price = S*Nd1-K*ert*Nd2\n",
    "    return(price)\n",
    "    "
   ]
  },
  {
   "cell_type": "code",
   "execution_count": 4,
   "id": "coordinate-assurance",
   "metadata": {},
   "outputs": [
    {
     "data": {
      "text/plain": [
       "2.466548624311315"
      ]
     },
     "execution_count": 4,
     "metadata": {},
     "output_type": "execute_result"
    }
   ],
   "source": [
    "bs_call(100,110,0.25, 0.05,0.3)"
   ]
  },
  {
   "cell_type": "code",
   "execution_count": 22,
   "id": "integrated-configuration",
   "metadata": {},
   "outputs": [
    {
     "data": {
      "text/plain": [
       "0.08186233432774903"
      ]
     },
     "execution_count": 22,
     "metadata": {},
     "output_type": "execute_result"
    }
   ],
   "source": [
    "call(80,200,0.5, 0.05,0.5)"
   ]
  }
 ],
 "metadata": {
  "kernelspec": {
   "display_name": "Python 3",
   "language": "python",
   "name": "python3"
  },
  "language_info": {
   "codemirror_mode": {
    "name": "ipython",
    "version": 3
   },
   "file_extension": ".py",
   "mimetype": "text/x-python",
   "name": "python",
   "nbconvert_exporter": "python",
   "pygments_lexer": "ipython3",
   "version": "3.8.5"
  }
 },
 "nbformat": 4,
 "nbformat_minor": 5
}
