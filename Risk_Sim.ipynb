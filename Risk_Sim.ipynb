{
 "cells": [
  {
   "cell_type": "markdown",
   "id": "higher-junction",
   "metadata": {},
   "source": [
    "# Risk Simulation"
   ]
  },
  {
   "cell_type": "code",
   "execution_count": 5,
   "id": "sublime-stage",
   "metadata": {},
   "outputs": [],
   "source": [
    "#packages\n",
    "import pandas as pd\n",
    "import numpy as np\n",
    "import math\n",
    "import random\n",
    "import statsmodels as sm\n",
    "import matplotlib.pyplot as plt\n",
    "import seaborn as sns\n",
    "import scipy.stats as st\n",
    "from scipy.stats import *"
   ]
  },
  {
   "cell_type": "markdown",
   "id": "valid-geneva",
   "metadata": {},
   "source": [
    "Distribuciones de scipy y su documentación:\n",
    "https://docs.scipy.org/doc/scipy/reference/stats.html"
   ]
  },
  {
   "cell_type": "markdown",
   "id": "exceptional-conference",
   "metadata": {},
   "source": [
    "Distribuciones de numpy y su documentación:\n",
    "https://numpy.org/doc/1.16/reference/routines.random.html"
   ]
  },
  {
   "cell_type": "markdown",
   "id": "structural-adams",
   "metadata": {},
   "source": [
    "## Ajustar mejor distribución"
   ]
  },
  {
   "cell_type": "code",
   "execution_count": 2,
   "id": "double-wayne",
   "metadata": {},
   "outputs": [
    {
     "data": {
      "text/html": [
       "<div>\n",
       "<style scoped>\n",
       "    .dataframe tbody tr th:only-of-type {\n",
       "        vertical-align: middle;\n",
       "    }\n",
       "\n",
       "    .dataframe tbody tr th {\n",
       "        vertical-align: top;\n",
       "    }\n",
       "\n",
       "    .dataframe thead th {\n",
       "        text-align: right;\n",
       "    }\n",
       "</style>\n",
       "<table border=\"1\" class=\"dataframe\">\n",
       "  <thead>\n",
       "    <tr style=\"text-align: right;\">\n",
       "      <th></th>\n",
       "      <th>Date</th>\n",
       "      <th>Coffee</th>\n",
       "      <th>COPUSD</th>\n",
       "      <th>CoffeeCOP</th>\n",
       "    </tr>\n",
       "  </thead>\n",
       "  <tbody>\n",
       "    <tr>\n",
       "      <th>0</th>\n",
       "      <td>1991-01-03</td>\n",
       "      <td>0.285139</td>\n",
       "      <td>NaN</td>\n",
       "      <td>NaN</td>\n",
       "    </tr>\n",
       "    <tr>\n",
       "      <th>1</th>\n",
       "      <td>1991-01-04</td>\n",
       "      <td>0.285243</td>\n",
       "      <td>NaN</td>\n",
       "      <td>NaN</td>\n",
       "    </tr>\n",
       "    <tr>\n",
       "      <th>2</th>\n",
       "      <td>1991-01-07</td>\n",
       "      <td>0.285104</td>\n",
       "      <td>NaN</td>\n",
       "      <td>NaN</td>\n",
       "    </tr>\n",
       "    <tr>\n",
       "      <th>3</th>\n",
       "      <td>1991-01-08</td>\n",
       "      <td>0.284625</td>\n",
       "      <td>NaN</td>\n",
       "      <td>NaN</td>\n",
       "    </tr>\n",
       "    <tr>\n",
       "      <th>4</th>\n",
       "      <td>1991-01-09</td>\n",
       "      <td>0.284622</td>\n",
       "      <td>NaN</td>\n",
       "      <td>NaN</td>\n",
       "    </tr>\n",
       "  </tbody>\n",
       "</table>\n",
       "</div>"
      ],
      "text/plain": [
       "        Date    Coffee  COPUSD  CoffeeCOP\n",
       "0 1991-01-03  0.285139     NaN        NaN\n",
       "1 1991-01-04  0.285243     NaN        NaN\n",
       "2 1991-01-07  0.285104     NaN        NaN\n",
       "3 1991-01-08  0.284625     NaN        NaN\n",
       "4 1991-01-09  0.284622     NaN        NaN"
      ]
     },
     "execution_count": 2,
     "metadata": {},
     "output_type": "execute_result"
    }
   ],
   "source": [
    "#import volatilities\n",
    "vols = pd.read_excel(\"vols.xlsx\")\n",
    "vols.head()"
   ]
  },
  {
   "cell_type": "code",
   "execution_count": 3,
   "id": "powered-protocol",
   "metadata": {},
   "outputs": [],
   "source": [
    "coffee = vols[\"Coffee\"]\n",
    "trm = vols[\"COPUSD\"]\n",
    "coffee_cop = vols[\"CoffeeCOP\"]\n",
    "\n",
    "coffee.dropna(inplace = True)\n",
    "trm.dropna(inplace = True)\n",
    "coffee_cop.dropna(inplace = True)"
   ]
  },
  {
   "cell_type": "code",
   "execution_count": null,
   "id": "tough-harvest",
   "metadata": {},
   "outputs": [],
   "source": [
    "%%time\n",
    "from fitter import Fitter\n",
    "f1 = Fitter(coffee)\n",
    "f1.fit()\n",
    "# may take some time since by default, all distributions are tried\n",
    "# but you call manually provide a smaller set of distributions\n",
    "f1.summary()"
   ]
  },
  {
   "cell_type": "code",
   "execution_count": null,
   "id": "mineral-terminology",
   "metadata": {},
   "outputs": [],
   "source": [
    "%%time\n",
    "f2 = Fitter(trm)\n",
    "f2.fit()\n",
    "# may take some time since by default, all distributions are tried\n",
    "# but you call manually provide a smaller set of distributions\n",
    "f2.summary()"
   ]
  },
  {
   "cell_type": "code",
   "execution_count": null,
   "id": "classical-kingdom",
   "metadata": {},
   "outputs": [],
   "source": [
    "%%time\n",
    "f3 = Fitter(coffee_cop)\n",
    "f3.fit()\n",
    "# may take some time since by default, all distributions are tried\n",
    "# but you call manually provide a smaller set of distributions\n",
    "f3.summary()"
   ]
  },
  {
   "cell_type": "markdown",
   "id": "confirmed-atlantic",
   "metadata": {},
   "source": [
    "Obtener parametros para las mejores distribuciones"
   ]
  },
  {
   "cell_type": "code",
   "execution_count": null,
   "id": "pretty-federal",
   "metadata": {},
   "outputs": [],
   "source": [
    "print(\"Parms of coffee\",f1.fitted_param['dgamma'])\n",
    "print(\"Parms of trm\", f2.fitted_param['fatiguelife'])\n",
    "print(\"Parms of coffee cop\",f3.fitted_param['laplace'])"
   ]
  },
  {
   "cell_type": "code",
   "execution_count": 7,
   "id": "green-picture",
   "metadata": {},
   "outputs": [],
   "source": [
    "#definir inputs:\n",
    "n = 10000\n",
    "pct_cobertura = 0.3\n",
    "\n",
    "#IBR\n",
    "ibr_min = 0.01\n",
    "ibr_c = 0.035\n",
    "ibr_max = 0.05\n",
    "ibr = np.random.triangular(ibr_min, ibr_c, ibr_max, size=n)\n",
    "\n",
    "#LIBOR\n",
    "lib_min = 0\n",
    "lib_c = 0.029\n",
    "lib_max = 0.038\n",
    "lib = np.random.triangular(lib_min, lib_c, lib_max, size=n)\n",
    "\n",
    "#Vol Café\n",
    "vol_coffee = dgamma.rvs(1.4863778547163755, loc = 0.356, scale = 0.0465, size=n)\n",
    "\n",
    "#Vol Dólar\n",
    "vol_trm = fatiguelife.rvs(0.5202 ,loc = 0.0139, scale = 0.0747, size = n)\n",
    "\n",
    "#vol Cafe cop\n",
    "vol_coffee_cop = laplace.rvs(loc = 0.2350, scale = 0.05825)\n",
    "\n",
    "\n",
    "#precio café\n",
    "#definir distribucion del café\n",
    "\n",
    "#precio dólar\n",
    "#definir distribucion del dolar - hacer browniano geométrico"
   ]
  },
  {
   "cell_type": "markdown",
   "id": "alternative-organic",
   "metadata": {},
   "source": [
    "## Black Scholes"
   ]
  },
  {
   "cell_type": "code",
   "execution_count": 8,
   "id": "identical-illness",
   "metadata": {},
   "outputs": [],
   "source": [
    "from math import log, sqrt, pi, exp\n",
    "from scipy.stats import norm\n",
    "from datetime import datetime, date\n",
    "import numpy as np\n",
    "import pandas as pd\n",
    "from pandas import DataFrame\n",
    "\n",
    "def d1(S,K,T,r,sigma):\n",
    "    return(log(S/K)+(r+sigma**2/2.)*T)/sigma*sqrt(T)\n",
    "def d2(S,K,T,r,sigma):\n",
    "    return d1(S,K,T,r,sigma)-sigma*sqrt(T)"
   ]
  },
  {
   "cell_type": "code",
   "execution_count": 9,
   "id": "measured-russian",
   "metadata": {},
   "outputs": [],
   "source": [
    "def bs_call(S,K,T,r,sigma):\n",
    "    return S*norm.cdf(d1(S,K,T,r,sigma))-K*exp(-r*T)*norm.cdf(d2(S,K,T,r,sigma))\n",
    "  \n",
    "def bs_put(S,K,T,r,sigma):\n",
    "    return K*exp(-r*T)-S+bs_call(S,K,T,r,sigma)"
   ]
  },
  {
   "cell_type": "markdown",
   "id": "behind-printing",
   "metadata": {},
   "source": [
    "## Simulación masiva"
   ]
  },
  {
   "cell_type": "code",
   "execution_count": 66,
   "id": "communist-poland",
   "metadata": {},
   "outputs": [
    {
     "data": {
      "image/png": "[encoded data removed]",
      "text/plain": [
       "<Figure size 432x288 with 1 Axes>"
      ]
     },
     "metadata": {
      "needs_background": "light"
     },
     "output_type": "display_data"
    }
   ],
   "source": [
    "#simular primas café base\n",
    "primas_pct = []\n",
    "\n",
    "for i in range(n):\n",
    "    ss = -0.02 #Strike vs Spot\n",
    "    S = 100 #spot\n",
    "    K = S*(1+ss) #strike\n",
    "    T = 1 #time in years\n",
    "    r = lib[i] #free risk interest rate\n",
    "    sigma = vol_coffee[i] #volatility of asset (annualized)\n",
    "    prima = bs_call(S,K,T,r,sigma) # price of option in unites\n",
    "    prima_pct = prima / K #price of option %\n",
    "    primas_pct.append(prima_pct)\n",
    "    \n",
    "sns.histplot(primas_pct, kde=True)\n",
    "plt.show()"
   ]
  },
  {
   "cell_type": "code",
   "execution_count": 35,
   "id": "interested-silence",
   "metadata": {},
   "outputs": [
    {
     "data": {
      "image/png": "[encoded data removed]",
      "text/plain": [
       "<Figure size 432x288 with 1 Axes>"
      ]
     },
     "metadata": {
      "needs_background": "light"
     },
     "output_type": "display_data"
    }
   ],
   "source": [
    "#simular primas trm\n",
    "primas_pct = []\n",
    "\n",
    "for i in range(n):\n",
    "    ss = -0.02 #Strike vs Spot\n",
    "    S = 3500 #spot\n",
    "    K = S*(1+ss) #strike\n",
    "    T = 1 #time in years\n",
    "    r = ibr[i] - lib[i] #free risk interest rate\n",
    "    sigma = vol_trm[i] #volatility of asset (annualized)\n",
    "    prima = bs_call(S,K,T,r,sigma) # price of option in unites\n",
    "    prima_pct = prima / K #price of option %\n",
    "    primas_pct.append(prima_pct)\n",
    "    \n",
    "sns.histplot(primas_pct, kde=True)\n",
    "plt.show()"
   ]
  },
  {
   "cell_type": "code",
   "execution_count": 75,
   "id": "economic-european",
   "metadata": {},
   "outputs": [
    {
     "data": {
      "text/plain": [
       "<AxesSubplot:ylabel='Count'>"
      ]
     },
     "execution_count": 75,
     "metadata": {},
     "output_type": "execute_result"
    },
    {
     "data": {
      "image/png": "[encoded data removed]",
      "text/plain": [
       "<Figure size 432x288 with 1 Axes>"
      ]
     },
     "metadata": {
      "needs_background": "light"
     },
     "output_type": "display_data"
    }
   ],
   "source": [
    "x = np.random.triangular(-0.99, 0, 0.99, size=n)\n",
    "sns.histplot(x, kde = True)"
   ]
  },
  {
   "cell_type": "code",
   "execution_count": 84,
   "id": "married-criticism",
   "metadata": {},
   "outputs": [
    {
     "data": {
      "image/png": "[encoded data removed]",
      "text/plain": [
       "<Figure size 432x288 with 1 Axes>"
      ]
     },
     "metadata": {
      "needs_background": "light"
     },
     "output_type": "display_data"
    }
   ],
   "source": [
    "#Combinacion de las dos primas\n",
    "primas_pct = []\n",
    "primas_pct2 = []\n",
    "primas_pct_all = []\n",
    "\n",
    "ss_array_coffee = np.random.triangular(-0.99, 0, 0.99, size=n) #definir mejor esto\n",
    "ss_array_trm = np.random.triangular(-0.99, 0, 0.99, size=n) #definir mejor esto\n",
    "\n",
    "for i in range(n):\n",
    "    #coffee\n",
    "    ss =  ss_array_coffee[i]/2 #Strike vs Spot\n",
    "    S = 100 #spot coffee\n",
    "    K = S*(1+ss) #strike coffee\n",
    "    T = 1 #time in years\n",
    "    r = lib[i] #free risk interest rate\n",
    "    sigma = vol_coffee[i] #volatility of asset (annualized)\n",
    "    prima = bs_call(S,K,T,r,sigma) # price of option in unites\n",
    "    prima_pct = prima / K #price of option %\n",
    "    primas_pct.append(prima_pct)\n",
    "    \n",
    "    #trm\n",
    "    ss2 = ss_array_trm[i]/2\n",
    "    S2 = 3500\n",
    "    K2 = S2*(1+ss2)\n",
    "    r2 = ibr[i] - lib[i]\n",
    "    sigma2 = vol_trm[i]\n",
    "    prima2 = bs_call(S2, K2, T, r2, sigma2)\n",
    "    prima_pct2 = prima2 / K2\n",
    "    primas_pct2.append(prima_pct2)\n",
    "    \n",
    "    #combinacion\n",
    "    prima_pct_all = prima_pct + prima_pct2\n",
    "    primas_pct_all.append(prima_pct_all)\n",
    "    \n",
    "    \n",
    "    \n",
    "sns.histplot(primas_pct_all, kde=True)\n",
    "plt.show()"
   ]
  },
  {
   "cell_type": "code",
   "execution_count": null,
   "id": "logical-sunset",
   "metadata": {},
   "outputs": [],
   "source": []
  }
 ],
 "metadata": {
  "kernelspec": {
   "display_name": "Python 3",
   "language": "python",
   "name": "python3"
  },
  "language_info": {
   "codemirror_mode": {
    "name": "ipython",
    "version": 3
   },
   "file_extension": ".py",
   "mimetype": "text/x-python",
   "name": "python",
   "nbconvert_exporter": "python",
   "pygments_lexer": "ipython3",
   "version": "3.8.5"
  }
 },
 "nbformat": 4,
 "nbformat_minor": 5
}
